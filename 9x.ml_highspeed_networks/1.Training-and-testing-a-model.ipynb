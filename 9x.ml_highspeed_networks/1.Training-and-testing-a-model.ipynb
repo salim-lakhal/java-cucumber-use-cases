{
  "nbformat": 4,
  "nbformat_minor": 0,
  "metadata": {
    "colab": {
      "name": "Training and testing an MLP.ipynb",
      "provenance": [],
      "gpuType": "V28",
      "include_colab_link": true
    },
    "kernelspec": {
      "display_name": "Python 3",
      "language": "python",
      "name": "python3"
    },
    "language_info": {
      "codemirror_mode": {
        "name": "ipython",
        "version": 3
      },
      "file_extension": ".py",
      "mimetype": "text/x-python",
      "name": "python",
      "nbconvert_exporter": "python",
      "pygments_lexer": "ipython3",
      "version": "3.6.8"
    },
    "accelerator": "TPU"
  },
  "cells": [
    {
      "cell_type": "markdown",
      "metadata": {
        "id": "view-in-github",
        "colab_type": "text"
      },
      "source": [
        "<a href=\"https://colab.research.google.com/github/salim-lakhal/java-cucumber-use-cases/blob/main/9x.ml_highspeed_networks/1.Training-and-testing-a-model.ipynb\" target=\"_parent\"><img src=\"https://colab.research.google.com/assets/colab-badge.svg\" alt=\"Open In Colab\"/></a>"
      ]
    },
    {
      "cell_type": "code",
      "metadata": {
        "id": "dRBJhnfFNx-b",
        "colab": {
          "base_uri": "https://localhost:8080/"
        },
        "outputId": "209c1764-2814-46d7-940c-22a1e0967054"
      },
      "source": [
        "import pandas as pd\n",
        "import numpy as np\n",
        "\n",
        "from sklearn.linear_model import LogisticRegression\n",
        "from sklearn.metrics import accuracy_score\n",
        "from sklearn.utils import shuffle\n",
        "from sklearn.model_selection import train_test_split\n",
        "from sklearn.preprocessing import MinMaxScaler\n",
        "\n",
        "\n",
        "\n",
        "import pickle # To save the model\n",
        "from functools import partial\n",
        "import random\n",
        "\n",
        "\n",
        "\n",
        "# The following is to be able to mount Google Drive\n",
        "from google.colab import drive\n",
        "\n",
        "\n",
        "# We import a function I prepared for you in the course library\n",
        "! wget https://raw.githubusercontent.com/andreaaraldo/machine-learning-for-networks/master/course_library/visualization.py\n",
        "from visualization import plot_conf_mat\n",
        "\n",
        "\n",
        "from typing import List\n",
        "! pip install tensorflow\n",
        "import tensorflow as tf\n",
        "import tensorflow.keras as keras\n",
        "from tensorflow.keras.layers import Dense\n",
        "from tensorflow.keras.models import Sequential, load_model\n",
        "from tensorflow.keras.utils import plot_model\n",
        "from tensorflow.keras.callbacks import ModelCheckpoint, CSVLogger\n",
        "\n",
        "\n",
        "# The following library is to plot the loss during training\n",
        "# https://github.com/stared/livelossplot\n",
        "! pip install livelossplot\n",
        "from livelossplot import PlotLossesKerasTF\n",
        "\n",
        "\n",
        "import os\n",
        "from os.path import isfile"
      ],
      "execution_count": 3,
      "outputs": [
        {
          "output_type": "stream",
          "name": "stdout",
          "text": [
            "--2025-05-28 13:27:33--  https://raw.githubusercontent.com/andreaaraldo/machine-learning-for-networks/master/course_library/visualization.py\n",
            "Resolving raw.githubusercontent.com (raw.githubusercontent.com)... 185.199.108.133, 185.199.109.133, 185.199.110.133, ...\n",
            "Connecting to raw.githubusercontent.com (raw.githubusercontent.com)|185.199.108.133|:443... connected.\n",
            "HTTP request sent, awaiting response... 200 OK\n",
            "Length: 13023 (13K) [text/plain]\n",
            "Saving to: ‘visualization.py.2’\n",
            "\n",
            "\rvisualization.py.2    0%[                    ]       0  --.-KB/s               \rvisualization.py.2  100%[===================>]  12.72K  --.-KB/s    in 0.001s  \n",
            "\n",
            "2025-05-28 13:27:33 (17.4 MB/s) - ‘visualization.py.2’ saved [13023/13023]\n",
            "\n",
            "Collecting tensorflow\n",
            "  Downloading tensorflow-2.19.0-cp311-cp311-manylinux_2_17_x86_64.manylinux2014_x86_64.whl.metadata (4.1 kB)\n",
            "Requirement already satisfied: absl-py>=1.0.0 in /usr/local/lib/python3.11/dist-packages (from tensorflow) (1.4.0)\n",
            "Collecting astunparse>=1.6.0 (from tensorflow)\n",
            "  Downloading astunparse-1.6.3-py2.py3-none-any.whl.metadata (4.4 kB)\n",
            "Collecting flatbuffers>=24.3.25 (from tensorflow)\n",
            "  Downloading flatbuffers-25.2.10-py2.py3-none-any.whl.metadata (875 bytes)\n",
            "Requirement already satisfied: gast!=0.5.0,!=0.5.1,!=0.5.2,>=0.2.1 in /usr/local/lib/python3.11/dist-packages (from tensorflow) (0.6.0)\n",
            "Collecting google-pasta>=0.1.1 (from tensorflow)\n",
            "  Downloading google_pasta-0.2.0-py3-none-any.whl.metadata (814 bytes)\n",
            "Collecting libclang>=13.0.0 (from tensorflow)\n",
            "  Downloading libclang-18.1.1-py2.py3-none-manylinux2010_x86_64.whl.metadata (5.2 kB)\n",
            "Requirement already satisfied: opt-einsum>=2.3.2 in /usr/local/lib/python3.11/dist-packages (from tensorflow) (3.4.0)\n",
            "Requirement already satisfied: packaging in /usr/local/lib/python3.11/dist-packages (from tensorflow) (25.0)\n",
            "Requirement already satisfied: protobuf!=4.21.0,!=4.21.1,!=4.21.2,!=4.21.3,!=4.21.4,!=4.21.5,<6.0.0dev,>=3.20.3 in /usr/local/lib/python3.11/dist-packages (from tensorflow) (5.29.4)\n",
            "Requirement already satisfied: requests<3,>=2.21.0 in /usr/local/lib/python3.11/dist-packages (from tensorflow) (2.32.3)\n",
            "Requirement already satisfied: setuptools in /usr/local/lib/python3.11/dist-packages (from tensorflow) (75.2.0)\n",
            "Requirement already satisfied: six>=1.12.0 in /usr/local/lib/python3.11/dist-packages (from tensorflow) (1.17.0)\n",
            "Requirement already satisfied: termcolor>=1.1.0 in /usr/local/lib/python3.11/dist-packages (from tensorflow) (3.1.0)\n",
            "Requirement already satisfied: typing-extensions>=3.6.6 in /usr/local/lib/python3.11/dist-packages (from tensorflow) (4.13.2)\n",
            "Requirement already satisfied: wrapt>=1.11.0 in /usr/local/lib/python3.11/dist-packages (from tensorflow) (1.17.2)\n",
            "Requirement already satisfied: grpcio<2.0,>=1.24.3 in /usr/local/lib/python3.11/dist-packages (from tensorflow) (1.71.0)\n",
            "Collecting tensorboard~=2.19.0 (from tensorflow)\n",
            "  Downloading tensorboard-2.19.0-py3-none-any.whl.metadata (1.8 kB)\n",
            "Requirement already satisfied: keras>=3.5.0 in /usr/local/lib/python3.11/dist-packages (from tensorflow) (3.8.0)\n",
            "Requirement already satisfied: numpy<2.2.0,>=1.26.0 in /usr/local/lib/python3.11/dist-packages (from tensorflow) (2.0.2)\n",
            "Requirement already satisfied: h5py>=3.11.0 in /usr/local/lib/python3.11/dist-packages (from tensorflow) (3.13.0)\n",
            "Requirement already satisfied: ml-dtypes<1.0.0,>=0.5.1 in /usr/local/lib/python3.11/dist-packages (from tensorflow) (0.5.1)\n",
            "Collecting tensorflow-io-gcs-filesystem>=0.23.1 (from tensorflow)\n",
            "  Downloading tensorflow_io_gcs_filesystem-0.37.1-cp311-cp311-manylinux_2_17_x86_64.manylinux2014_x86_64.whl.metadata (14 kB)\n",
            "Collecting wheel<1.0,>=0.23.0 (from astunparse>=1.6.0->tensorflow)\n",
            "  Downloading wheel-0.45.1-py3-none-any.whl.metadata (2.3 kB)\n",
            "Requirement already satisfied: rich in /usr/local/lib/python3.11/dist-packages (from keras>=3.5.0->tensorflow) (14.0.0)\n",
            "Requirement already satisfied: namex in /usr/local/lib/python3.11/dist-packages (from keras>=3.5.0->tensorflow) (0.0.9)\n",
            "Requirement already satisfied: optree in /usr/local/lib/python3.11/dist-packages (from keras>=3.5.0->tensorflow) (0.15.0)\n",
            "Requirement already satisfied: charset-normalizer<4,>=2 in /usr/local/lib/python3.11/dist-packages (from requests<3,>=2.21.0->tensorflow) (3.4.2)\n",
            "Requirement already satisfied: idna<4,>=2.5 in /usr/local/lib/python3.11/dist-packages (from requests<3,>=2.21.0->tensorflow) (3.10)\n",
            "Requirement already satisfied: urllib3<3,>=1.21.1 in /usr/local/lib/python3.11/dist-packages (from requests<3,>=2.21.0->tensorflow) (2.4.0)\n",
            "Requirement already satisfied: certifi>=2017.4.17 in /usr/local/lib/python3.11/dist-packages (from requests<3,>=2.21.0->tensorflow) (2025.4.26)\n",
            "Requirement already satisfied: markdown>=2.6.8 in /usr/lib/python3/dist-packages (from tensorboard~=2.19.0->tensorflow) (3.3.6)\n",
            "Collecting tensorboard-data-server<0.8.0,>=0.7.0 (from tensorboard~=2.19.0->tensorflow)\n",
            "  Downloading tensorboard_data_server-0.7.2-py3-none-manylinux_2_31_x86_64.whl.metadata (1.1 kB)\n",
            "Collecting werkzeug>=1.0.1 (from tensorboard~=2.19.0->tensorflow)\n",
            "  Downloading werkzeug-3.1.3-py3-none-any.whl.metadata (3.7 kB)\n",
            "Requirement already satisfied: MarkupSafe>=2.1.1 in /usr/local/lib/python3.11/dist-packages (from werkzeug>=1.0.1->tensorboard~=2.19.0->tensorflow) (3.0.2)\n",
            "Requirement already satisfied: markdown-it-py>=2.2.0 in /usr/local/lib/python3.11/dist-packages (from rich->keras>=3.5.0->tensorflow) (3.0.0)\n",
            "Requirement already satisfied: pygments<3.0.0,>=2.13.0 in /usr/local/lib/python3.11/dist-packages (from rich->keras>=3.5.0->tensorflow) (2.19.1)\n",
            "Requirement already satisfied: mdurl~=0.1 in /usr/local/lib/python3.11/dist-packages (from markdown-it-py>=2.2.0->rich->keras>=3.5.0->tensorflow) (0.1.2)\n",
            "Downloading tensorflow-2.19.0-cp311-cp311-manylinux_2_17_x86_64.manylinux2014_x86_64.whl (644.9 MB)\n",
            "\u001b[2K   \u001b[90m━━━━━━━━━━━━━━━━━━━━━━━━━━━━━━━━━━━━━━━\u001b[0m \u001b[32m644.9/644.9 MB\u001b[0m \u001b[31m620.7 kB/s\u001b[0m eta \u001b[36m0:00:00\u001b[0m\n",
            "\u001b[?25hDownloading astunparse-1.6.3-py2.py3-none-any.whl (12 kB)\n",
            "Downloading flatbuffers-25.2.10-py2.py3-none-any.whl (30 kB)\n",
            "Downloading google_pasta-0.2.0-py3-none-any.whl (57 kB)\n",
            "\u001b[2K   \u001b[90m━━━━━━━━━━━━━━━━━━━━━━━━━━━━━━━━━━━━━━━━\u001b[0m \u001b[32m57.5/57.5 kB\u001b[0m \u001b[31m4.7 MB/s\u001b[0m eta \u001b[36m0:00:00\u001b[0m\n",
            "\u001b[?25hDownloading libclang-18.1.1-py2.py3-none-manylinux2010_x86_64.whl (24.5 MB)\n",
            "\u001b[2K   \u001b[90m━━━━━━━━━━━━━━━━━━━━━━━━━━━━━━━━━━━━━━━━\u001b[0m \u001b[32m24.5/24.5 MB\u001b[0m \u001b[31m83.6 MB/s\u001b[0m eta \u001b[36m0:00:00\u001b[0m\n",
            "\u001b[?25hDownloading tensorboard-2.19.0-py3-none-any.whl (5.5 MB)\n",
            "\u001b[2K   \u001b[90m━━━━━━━━━━━━━━━━━━━━━━━━━━━━━━━━━━━━━━━━\u001b[0m \u001b[32m5.5/5.5 MB\u001b[0m \u001b[31m114.0 MB/s\u001b[0m eta \u001b[36m0:00:00\u001b[0m\n",
            "\u001b[?25hDownloading tensorflow_io_gcs_filesystem-0.37.1-cp311-cp311-manylinux_2_17_x86_64.manylinux2014_x86_64.whl (5.1 MB)\n",
            "\u001b[2K   \u001b[90m━━━━━━━━━━━━━━━━━━━━━━━━━━━━━━━━━━━━━━━━\u001b[0m \u001b[32m5.1/5.1 MB\u001b[0m \u001b[31m102.9 MB/s\u001b[0m eta \u001b[36m0:00:00\u001b[0m\n",
            "\u001b[?25hDownloading tensorboard_data_server-0.7.2-py3-none-manylinux_2_31_x86_64.whl (6.6 MB)\n",
            "\u001b[2K   \u001b[90m━━━━━━━━━━━━━━━━━━━━━━━━━━━━━━━━━━━━━━━━\u001b[0m \u001b[32m6.6/6.6 MB\u001b[0m \u001b[31m114.8 MB/s\u001b[0m eta \u001b[36m0:00:00\u001b[0m\n",
            "\u001b[?25hDownloading werkzeug-3.1.3-py3-none-any.whl (224 kB)\n",
            "\u001b[2K   \u001b[90m━━━━━━━━━━━━━━━━━━━━━━━━━━━━━━━━━━━━━━━━\u001b[0m \u001b[32m224.5/224.5 kB\u001b[0m \u001b[31m17.5 MB/s\u001b[0m eta \u001b[36m0:00:00\u001b[0m\n",
            "\u001b[?25hDownloading wheel-0.45.1-py3-none-any.whl (72 kB)\n",
            "\u001b[2K   \u001b[90m━━━━━━━━━━━━━━━━━━━━━━━━━━━━━━━━━━━━━━━━\u001b[0m \u001b[32m72.5/72.5 kB\u001b[0m \u001b[31m6.0 MB/s\u001b[0m eta \u001b[36m0:00:00\u001b[0m\n",
            "\u001b[?25hInstalling collected packages: libclang, flatbuffers, wheel, werkzeug, tensorflow-io-gcs-filesystem, tensorboard-data-server, google-pasta, tensorboard, astunparse, tensorflow\n",
            "Successfully installed astunparse-1.6.3 flatbuffers-25.2.10 google-pasta-0.2.0 libclang-18.1.1 tensorboard-2.19.0 tensorboard-data-server-0.7.2 tensorflow-2.19.0 tensorflow-io-gcs-filesystem-0.37.1 werkzeug-3.1.3 wheel-0.45.1\n",
            "Collecting livelossplot\n",
            "  Downloading livelossplot-0.5.6-py3-none-any.whl.metadata (8.9 kB)\n",
            "Requirement already satisfied: matplotlib in /usr/local/lib/python3.11/dist-packages (from livelossplot) (3.10.0)\n",
            "Collecting bokeh (from livelossplot)\n",
            "  Downloading bokeh-3.7.3-py3-none-any.whl.metadata (12 kB)\n",
            "Requirement already satisfied: Jinja2>=2.9 in /usr/local/lib/python3.11/dist-packages (from bokeh->livelossplot) (3.1.6)\n",
            "Requirement already satisfied: contourpy>=1.2 in /usr/local/lib/python3.11/dist-packages (from bokeh->livelossplot) (1.3.2)\n",
            "Requirement already satisfied: narwhals>=1.13 in /usr/local/lib/python3.11/dist-packages (from bokeh->livelossplot) (1.40.0)\n",
            "Requirement already satisfied: numpy>=1.16 in /usr/local/lib/python3.11/dist-packages (from bokeh->livelossplot) (2.0.2)\n",
            "Requirement already satisfied: packaging>=16.8 in /usr/local/lib/python3.11/dist-packages (from bokeh->livelossplot) (25.0)\n",
            "Requirement already satisfied: pandas>=1.2 in /usr/local/lib/python3.11/dist-packages (from bokeh->livelossplot) (2.2.2)\n",
            "Requirement already satisfied: pillow>=7.1.0 in /usr/local/lib/python3.11/dist-packages (from bokeh->livelossplot) (11.2.1)\n",
            "Requirement already satisfied: PyYAML>=3.10 in /usr/local/lib/python3.11/dist-packages (from bokeh->livelossplot) (6.0.2)\n",
            "Requirement already satisfied: tornado>=6.2 in /usr/local/lib/python3.11/dist-packages (from bokeh->livelossplot) (6.4.2)\n",
            "Collecting xyzservices>=2021.09.1 (from bokeh->livelossplot)\n",
            "  Downloading xyzservices-2025.4.0-py3-none-any.whl.metadata (4.3 kB)\n",
            "Requirement already satisfied: cycler>=0.10 in /usr/local/lib/python3.11/dist-packages (from matplotlib->livelossplot) (0.12.1)\n",
            "Requirement already satisfied: fonttools>=4.22.0 in /usr/local/lib/python3.11/dist-packages (from matplotlib->livelossplot) (4.58.0)\n",
            "Requirement already satisfied: kiwisolver>=1.3.1 in /usr/local/lib/python3.11/dist-packages (from matplotlib->livelossplot) (1.4.8)\n",
            "Requirement already satisfied: pyparsing>=2.3.1 in /usr/local/lib/python3.11/dist-packages (from matplotlib->livelossplot) (3.2.3)\n",
            "Requirement already satisfied: python-dateutil>=2.7 in /usr/local/lib/python3.11/dist-packages (from matplotlib->livelossplot) (2.9.0.post0)\n",
            "Requirement already satisfied: MarkupSafe>=2.0 in /usr/local/lib/python3.11/dist-packages (from Jinja2>=2.9->bokeh->livelossplot) (3.0.2)\n",
            "Requirement already satisfied: pytz>=2020.1 in /usr/local/lib/python3.11/dist-packages (from pandas>=1.2->bokeh->livelossplot) (2025.2)\n",
            "Requirement already satisfied: tzdata>=2022.7 in /usr/local/lib/python3.11/dist-packages (from pandas>=1.2->bokeh->livelossplot) (2025.2)\n",
            "Requirement already satisfied: six>=1.5 in /usr/local/lib/python3.11/dist-packages (from python-dateutil>=2.7->matplotlib->livelossplot) (1.17.0)\n",
            "Downloading livelossplot-0.5.6-py3-none-any.whl (23 kB)\n",
            "Downloading bokeh-3.7.3-py3-none-any.whl (7.0 MB)\n",
            "\u001b[2K   \u001b[90m━━━━━━━━━━━━━━━━━━━━━━━━━━━━━━━━━━━━━━━━\u001b[0m \u001b[32m7.0/7.0 MB\u001b[0m \u001b[31m60.5 MB/s\u001b[0m eta \u001b[36m0:00:00\u001b[0m\n",
            "\u001b[?25hDownloading xyzservices-2025.4.0-py3-none-any.whl (90 kB)\n",
            "\u001b[2K   \u001b[90m━━━━━━━━━━━━━━━━━━━━━━━━━━━━━━━━━━━━━━━━\u001b[0m \u001b[32m90.4/90.4 kB\u001b[0m \u001b[31m7.5 MB/s\u001b[0m eta \u001b[36m0:00:00\u001b[0m\n",
            "\u001b[?25hInstalling collected packages: xyzservices, bokeh, livelossplot\n",
            "Successfully installed bokeh-3.7.3 livelossplot-0.5.6 xyzservices-2025.4.0\n"
          ]
        }
      ]
    },
    {
      "cell_type": "markdown",
      "metadata": {
        "id": "J6CXPBcNbnOp"
      },
      "source": [
        "# Download the dataset and train/test split"
      ]
    },
    {
      "cell_type": "markdown",
      "metadata": {
        "id": "iUWKkvOYXik2"
      },
      "source": [
        "Load the dataset"
      ]
    },
    {
      "cell_type": "code",
      "metadata": {
        "id": "m10tUo-bXkli",
        "colab": {
          "base_uri": "https://localhost:8080/"
        },
        "outputId": "b4aaff93-5af9-4614-c7b4-4bb1ae85074c"
      },
      "source": [
        "! wget https://raw.githubusercontent.com/andreaaraldo/machine-learning-for-networks/master/9x.ml_highspeed_networks/lowdataset.csv\n",
        "! wget https://raw.githubusercontent.com/andreaaraldo/machine-learning-for-networks/master/9x.ml_highspeed_networks/highdataset.csv\n",
        "! wget https://raw.githubusercontent.com/andreaaraldo/machine-learning-for-networks/master/9x.ml_highspeed_networks/fulldataset.csv\n"
      ],
      "execution_count": 4,
      "outputs": [
        {
          "output_type": "stream",
          "name": "stdout",
          "text": [
            "--2025-05-28 13:28:56--  https://raw.githubusercontent.com/andreaaraldo/machine-learning-for-networks/master/9x.ml_highspeed_networks/lowdataset.csv\n",
            "Resolving raw.githubusercontent.com (raw.githubusercontent.com)... 185.199.108.133, 185.199.109.133, 185.199.110.133, ...\n",
            "Connecting to raw.githubusercontent.com (raw.githubusercontent.com)|185.199.108.133|:443... connected.\n",
            "HTTP request sent, awaiting response... 200 OK\n",
            "Length: 261162 (255K) [text/plain]\n",
            "Saving to: ‘lowdataset.csv’\n",
            "\n",
            "\rlowdataset.csv        0%[                    ]       0  --.-KB/s               \rlowdataset.csv      100%[===================>] 255.04K  --.-KB/s    in 0.04s   \n",
            "\n",
            "2025-05-28 13:28:56 (6.64 MB/s) - ‘lowdataset.csv’ saved [261162/261162]\n",
            "\n",
            "--2025-05-28 13:28:56--  https://raw.githubusercontent.com/andreaaraldo/machine-learning-for-networks/master/9x.ml_highspeed_networks/highdataset.csv\n",
            "Resolving raw.githubusercontent.com (raw.githubusercontent.com)... 185.199.108.133, 185.199.109.133, 185.199.110.133, ...\n",
            "Connecting to raw.githubusercontent.com (raw.githubusercontent.com)|185.199.108.133|:443... connected.\n",
            "HTTP request sent, awaiting response... 200 OK\n",
            "Length: 267387 (261K) [text/plain]\n",
            "Saving to: ‘highdataset.csv’\n",
            "\n",
            "highdataset.csv     100%[===================>] 261.12K  --.-KB/s    in 0.04s   \n",
            "\n",
            "2025-05-28 13:28:56 (7.07 MB/s) - ‘highdataset.csv’ saved [267387/267387]\n",
            "\n",
            "--2025-05-28 13:28:56--  https://raw.githubusercontent.com/andreaaraldo/machine-learning-for-networks/master/9x.ml_highspeed_networks/fulldataset.csv\n",
            "Resolving raw.githubusercontent.com (raw.githubusercontent.com)... 185.199.108.133, 185.199.109.133, 185.199.110.133, ...\n",
            "Connecting to raw.githubusercontent.com (raw.githubusercontent.com)|185.199.108.133|:443... connected.\n",
            "HTTP request sent, awaiting response... 200 OK\n",
            "Length: 1686836 (1.6M) [text/plain]\n",
            "Saving to: ‘fulldataset.csv’\n",
            "\n",
            "fulldataset.csv     100%[===================>]   1.61M  --.-KB/s    in 0.07s   \n",
            "\n",
            "2025-05-28 13:28:56 (23.9 MB/s) - ‘fulldataset.csv’ saved [1686836/1686836]\n",
            "\n"
          ]
        }
      ]
    },
    {
      "cell_type": "code",
      "metadata": {
        "id": "pTz-hYo7Nx-v"
      },
      "source": [
        "# Read the full dataset\n",
        "full_df = pd.read_csv('fulldataset.csv')\n",
        "\n",
        "# Remove the timestamp, which does not have predictive importance\n",
        "full_df = full_df.drop(columns=[\"time\"])"
      ],
      "execution_count": 5,
      "outputs": []
    },
    {
      "cell_type": "code",
      "metadata": {
        "id": "kQA0mgrXZxZC",
        "colab": {
          "base_uri": "https://localhost:8080/",
          "height": 308
        },
        "outputId": "1db7b47a-51f2-43ce-c631-b44e53a81c66"
      },
      "source": [
        "full_df.head()"
      ],
      "execution_count": 6,
      "outputs": [
        {
          "output_type": "execute_result",
          "data": {
            "text/plain": [
              "   L1-dcache-load-misses  L1-dcache-loads  L1-dcache-stores  \\\n",
              "0              1836848.0      190327023.0       116151881.0   \n",
              "1              1855641.0      190782590.0       116159726.0   \n",
              "2              1856373.0      190688064.0       116229597.0   \n",
              "3              1855415.0      190785345.0       116289893.0   \n",
              "4              1844978.0      190653473.0       116246239.0   \n",
              "\n",
              "   L1-icache-load-misses  LLC-load-misses  LLC-loads  LLC-store-misses  \\\n",
              "0                31680.0            301.0   272831.0             251.0   \n",
              "1                31550.0            288.0   273045.0             259.0   \n",
              "2                30507.0            251.0   272370.0             251.0   \n",
              "3                32535.0            226.0   273049.0             251.0   \n",
              "4                31360.0            363.0   270856.0             259.0   \n",
              "\n",
              "   LLC-stores  branch-load-misses  branch-misses  ...  instructions  \\\n",
              "0    155393.0            171640.0       172007.0  ...   614259959.0   \n",
              "1    154536.0            173760.0       173161.0  ...   614006400.0   \n",
              "2    154825.0            170987.0       170923.0  ...   614749577.0   \n",
              "3    154438.0            170998.0       170960.0  ...   614927834.0   \n",
              "4    154519.0            172861.0       172986.0  ...   614366676.0   \n",
              "\n",
              "   minor-faults  node-load-misses  node-loads  node-store-misses  node-stores  \\\n",
              "0           0.0             169.0       150.0               50.0        213.0   \n",
              "1           0.0             175.0       125.0               50.0        238.0   \n",
              "2           0.0             257.0        94.0               25.0        213.0   \n",
              "3           0.0             157.0       138.0               13.0        226.0   \n",
              "4           0.0             263.0       489.0               50.0        238.0   \n",
              "\n",
              "   page-faults   ref-cycles  task-clock  label  \n",
              "0          0.0  259473178.0  100.265909      0  \n",
              "1          0.0  259522865.0  100.276024      0  \n",
              "2          0.0  259533231.0  100.281822      0  \n",
              "3          0.0  259571508.0  100.270504      0  \n",
              "4          0.0  259490859.0  100.270495      0  \n",
              "\n",
              "[5 rows x 32 columns]"
            ],
            "text/html": [
              "\n",
              "  <div id=\"df-f4783eb9-4c58-49dd-a8cd-e01cbfb58502\" class=\"colab-df-container\">\n",
              "    <div>\n",
              "<style scoped>\n",
              "    .dataframe tbody tr th:only-of-type {\n",
              "        vertical-align: middle;\n",
              "    }\n",
              "\n",
              "    .dataframe tbody tr th {\n",
              "        vertical-align: top;\n",
              "    }\n",
              "\n",
              "    .dataframe thead th {\n",
              "        text-align: right;\n",
              "    }\n",
              "</style>\n",
              "<table border=\"1\" class=\"dataframe\">\n",
              "  <thead>\n",
              "    <tr style=\"text-align: right;\">\n",
              "      <th></th>\n",
              "      <th>L1-dcache-load-misses</th>\n",
              "      <th>L1-dcache-loads</th>\n",
              "      <th>L1-dcache-stores</th>\n",
              "      <th>L1-icache-load-misses</th>\n",
              "      <th>LLC-load-misses</th>\n",
              "      <th>LLC-loads</th>\n",
              "      <th>LLC-store-misses</th>\n",
              "      <th>LLC-stores</th>\n",
              "      <th>branch-load-misses</th>\n",
              "      <th>branch-misses</th>\n",
              "      <th>...</th>\n",
              "      <th>instructions</th>\n",
              "      <th>minor-faults</th>\n",
              "      <th>node-load-misses</th>\n",
              "      <th>node-loads</th>\n",
              "      <th>node-store-misses</th>\n",
              "      <th>node-stores</th>\n",
              "      <th>page-faults</th>\n",
              "      <th>ref-cycles</th>\n",
              "      <th>task-clock</th>\n",
              "      <th>label</th>\n",
              "    </tr>\n",
              "  </thead>\n",
              "  <tbody>\n",
              "    <tr>\n",
              "      <th>0</th>\n",
              "      <td>1836848.0</td>\n",
              "      <td>190327023.0</td>\n",
              "      <td>116151881.0</td>\n",
              "      <td>31680.0</td>\n",
              "      <td>301.0</td>\n",
              "      <td>272831.0</td>\n",
              "      <td>251.0</td>\n",
              "      <td>155393.0</td>\n",
              "      <td>171640.0</td>\n",
              "      <td>172007.0</td>\n",
              "      <td>...</td>\n",
              "      <td>614259959.0</td>\n",
              "      <td>0.0</td>\n",
              "      <td>169.0</td>\n",
              "      <td>150.0</td>\n",
              "      <td>50.0</td>\n",
              "      <td>213.0</td>\n",
              "      <td>0.0</td>\n",
              "      <td>259473178.0</td>\n",
              "      <td>100.265909</td>\n",
              "      <td>0</td>\n",
              "    </tr>\n",
              "    <tr>\n",
              "      <th>1</th>\n",
              "      <td>1855641.0</td>\n",
              "      <td>190782590.0</td>\n",
              "      <td>116159726.0</td>\n",
              "      <td>31550.0</td>\n",
              "      <td>288.0</td>\n",
              "      <td>273045.0</td>\n",
              "      <td>259.0</td>\n",
              "      <td>154536.0</td>\n",
              "      <td>173760.0</td>\n",
              "      <td>173161.0</td>\n",
              "      <td>...</td>\n",
              "      <td>614006400.0</td>\n",
              "      <td>0.0</td>\n",
              "      <td>175.0</td>\n",
              "      <td>125.0</td>\n",
              "      <td>50.0</td>\n",
              "      <td>238.0</td>\n",
              "      <td>0.0</td>\n",
              "      <td>259522865.0</td>\n",
              "      <td>100.276024</td>\n",
              "      <td>0</td>\n",
              "    </tr>\n",
              "    <tr>\n",
              "      <th>2</th>\n",
              "      <td>1856373.0</td>\n",
              "      <td>190688064.0</td>\n",
              "      <td>116229597.0</td>\n",
              "      <td>30507.0</td>\n",
              "      <td>251.0</td>\n",
              "      <td>272370.0</td>\n",
              "      <td>251.0</td>\n",
              "      <td>154825.0</td>\n",
              "      <td>170987.0</td>\n",
              "      <td>170923.0</td>\n",
              "      <td>...</td>\n",
              "      <td>614749577.0</td>\n",
              "      <td>0.0</td>\n",
              "      <td>257.0</td>\n",
              "      <td>94.0</td>\n",
              "      <td>25.0</td>\n",
              "      <td>213.0</td>\n",
              "      <td>0.0</td>\n",
              "      <td>259533231.0</td>\n",
              "      <td>100.281822</td>\n",
              "      <td>0</td>\n",
              "    </tr>\n",
              "    <tr>\n",
              "      <th>3</th>\n",
              "      <td>1855415.0</td>\n",
              "      <td>190785345.0</td>\n",
              "      <td>116289893.0</td>\n",
              "      <td>32535.0</td>\n",
              "      <td>226.0</td>\n",
              "      <td>273049.0</td>\n",
              "      <td>251.0</td>\n",
              "      <td>154438.0</td>\n",
              "      <td>170998.0</td>\n",
              "      <td>170960.0</td>\n",
              "      <td>...</td>\n",
              "      <td>614927834.0</td>\n",
              "      <td>0.0</td>\n",
              "      <td>157.0</td>\n",
              "      <td>138.0</td>\n",
              "      <td>13.0</td>\n",
              "      <td>226.0</td>\n",
              "      <td>0.0</td>\n",
              "      <td>259571508.0</td>\n",
              "      <td>100.270504</td>\n",
              "      <td>0</td>\n",
              "    </tr>\n",
              "    <tr>\n",
              "      <th>4</th>\n",
              "      <td>1844978.0</td>\n",
              "      <td>190653473.0</td>\n",
              "      <td>116246239.0</td>\n",
              "      <td>31360.0</td>\n",
              "      <td>363.0</td>\n",
              "      <td>270856.0</td>\n",
              "      <td>259.0</td>\n",
              "      <td>154519.0</td>\n",
              "      <td>172861.0</td>\n",
              "      <td>172986.0</td>\n",
              "      <td>...</td>\n",
              "      <td>614366676.0</td>\n",
              "      <td>0.0</td>\n",
              "      <td>263.0</td>\n",
              "      <td>489.0</td>\n",
              "      <td>50.0</td>\n",
              "      <td>238.0</td>\n",
              "      <td>0.0</td>\n",
              "      <td>259490859.0</td>\n",
              "      <td>100.270495</td>\n",
              "      <td>0</td>\n",
              "    </tr>\n",
              "  </tbody>\n",
              "</table>\n",
              "<p>5 rows × 32 columns</p>\n",
              "</div>\n",
              "    <div class=\"colab-df-buttons\">\n",
              "\n",
              "  <div class=\"colab-df-container\">\n",
              "    <button class=\"colab-df-convert\" onclick=\"convertToInteractive('df-f4783eb9-4c58-49dd-a8cd-e01cbfb58502')\"\n",
              "            title=\"Convert this dataframe to an interactive table.\"\n",
              "            style=\"display:none;\">\n",
              "\n",
              "  <svg xmlns=\"http://www.w3.org/2000/svg\" height=\"24px\" viewBox=\"0 -960 960 960\">\n",
              "    <path d=\"M120-120v-720h720v720H120Zm60-500h600v-160H180v160Zm220 220h160v-160H400v160Zm0 220h160v-160H400v160ZM180-400h160v-160H180v160Zm440 0h160v-160H620v160ZM180-180h160v-160H180v160Zm440 0h160v-160H620v160Z\"/>\n",
              "  </svg>\n",
              "    </button>\n",
              "\n",
              "  <style>\n",
              "    .colab-df-container {\n",
              "      display:flex;\n",
              "      gap: 12px;\n",
              "    }\n",
              "\n",
              "    .colab-df-convert {\n",
              "      background-color: #E8F0FE;\n",
              "      border: none;\n",
              "      border-radius: 50%;\n",
              "      cursor: pointer;\n",
              "      display: none;\n",
              "      fill: #1967D2;\n",
              "      height: 32px;\n",
              "      padding: 0 0 0 0;\n",
              "      width: 32px;\n",
              "    }\n",
              "\n",
              "    .colab-df-convert:hover {\n",
              "      background-color: #E2EBFA;\n",
              "      box-shadow: 0px 1px 2px rgba(60, 64, 67, 0.3), 0px 1px 3px 1px rgba(60, 64, 67, 0.15);\n",
              "      fill: #174EA6;\n",
              "    }\n",
              "\n",
              "    .colab-df-buttons div {\n",
              "      margin-bottom: 4px;\n",
              "    }\n",
              "\n",
              "    [theme=dark] .colab-df-convert {\n",
              "      background-color: #3B4455;\n",
              "      fill: #D2E3FC;\n",
              "    }\n",
              "\n",
              "    [theme=dark] .colab-df-convert:hover {\n",
              "      background-color: #434B5C;\n",
              "      box-shadow: 0px 1px 3px 1px rgba(0, 0, 0, 0.15);\n",
              "      filter: drop-shadow(0px 1px 2px rgba(0, 0, 0, 0.3));\n",
              "      fill: #FFFFFF;\n",
              "    }\n",
              "  </style>\n",
              "\n",
              "    <script>\n",
              "      const buttonEl =\n",
              "        document.querySelector('#df-f4783eb9-4c58-49dd-a8cd-e01cbfb58502 button.colab-df-convert');\n",
              "      buttonEl.style.display =\n",
              "        google.colab.kernel.accessAllowed ? 'block' : 'none';\n",
              "\n",
              "      async function convertToInteractive(key) {\n",
              "        const element = document.querySelector('#df-f4783eb9-4c58-49dd-a8cd-e01cbfb58502');\n",
              "        const dataTable =\n",
              "          await google.colab.kernel.invokeFunction('convertToInteractive',\n",
              "                                                    [key], {});\n",
              "        if (!dataTable) return;\n",
              "\n",
              "        const docLinkHtml = 'Like what you see? Visit the ' +\n",
              "          '<a target=\"_blank\" href=https://colab.research.google.com/notebooks/data_table.ipynb>data table notebook</a>'\n",
              "          + ' to learn more about interactive tables.';\n",
              "        element.innerHTML = '';\n",
              "        dataTable['output_type'] = 'display_data';\n",
              "        await google.colab.output.renderOutput(dataTable, element);\n",
              "        const docLink = document.createElement('div');\n",
              "        docLink.innerHTML = docLinkHtml;\n",
              "        element.appendChild(docLink);\n",
              "      }\n",
              "    </script>\n",
              "  </div>\n",
              "\n",
              "\n",
              "    <div id=\"df-6c3a95fd-0d13-4005-bb69-0fc61387ed3f\">\n",
              "      <button class=\"colab-df-quickchart\" onclick=\"quickchart('df-6c3a95fd-0d13-4005-bb69-0fc61387ed3f')\"\n",
              "                title=\"Suggest charts\"\n",
              "                style=\"display:none;\">\n",
              "\n",
              "<svg xmlns=\"http://www.w3.org/2000/svg\" height=\"24px\"viewBox=\"0 0 24 24\"\n",
              "     width=\"24px\">\n",
              "    <g>\n",
              "        <path d=\"M19 3H5c-1.1 0-2 .9-2 2v14c0 1.1.9 2 2 2h14c1.1 0 2-.9 2-2V5c0-1.1-.9-2-2-2zM9 17H7v-7h2v7zm4 0h-2V7h2v10zm4 0h-2v-4h2v4z\"/>\n",
              "    </g>\n",
              "</svg>\n",
              "      </button>\n",
              "\n",
              "<style>\n",
              "  .colab-df-quickchart {\n",
              "      --bg-color: #E8F0FE;\n",
              "      --fill-color: #1967D2;\n",
              "      --hover-bg-color: #E2EBFA;\n",
              "      --hover-fill-color: #174EA6;\n",
              "      --disabled-fill-color: #AAA;\n",
              "      --disabled-bg-color: #DDD;\n",
              "  }\n",
              "\n",
              "  [theme=dark] .colab-df-quickchart {\n",
              "      --bg-color: #3B4455;\n",
              "      --fill-color: #D2E3FC;\n",
              "      --hover-bg-color: #434B5C;\n",
              "      --hover-fill-color: #FFFFFF;\n",
              "      --disabled-bg-color: #3B4455;\n",
              "      --disabled-fill-color: #666;\n",
              "  }\n",
              "\n",
              "  .colab-df-quickchart {\n",
              "    background-color: var(--bg-color);\n",
              "    border: none;\n",
              "    border-radius: 50%;\n",
              "    cursor: pointer;\n",
              "    display: none;\n",
              "    fill: var(--fill-color);\n",
              "    height: 32px;\n",
              "    padding: 0;\n",
              "    width: 32px;\n",
              "  }\n",
              "\n",
              "  .colab-df-quickchart:hover {\n",
              "    background-color: var(--hover-bg-color);\n",
              "    box-shadow: 0 1px 2px rgba(60, 64, 67, 0.3), 0 1px 3px 1px rgba(60, 64, 67, 0.15);\n",
              "    fill: var(--button-hover-fill-color);\n",
              "  }\n",
              "\n",
              "  .colab-df-quickchart-complete:disabled,\n",
              "  .colab-df-quickchart-complete:disabled:hover {\n",
              "    background-color: var(--disabled-bg-color);\n",
              "    fill: var(--disabled-fill-color);\n",
              "    box-shadow: none;\n",
              "  }\n",
              "\n",
              "  .colab-df-spinner {\n",
              "    border: 2px solid var(--fill-color);\n",
              "    border-color: transparent;\n",
              "    border-bottom-color: var(--fill-color);\n",
              "    animation:\n",
              "      spin 1s steps(1) infinite;\n",
              "  }\n",
              "\n",
              "  @keyframes spin {\n",
              "    0% {\n",
              "      border-color: transparent;\n",
              "      border-bottom-color: var(--fill-color);\n",
              "      border-left-color: var(--fill-color);\n",
              "    }\n",
              "    20% {\n",
              "      border-color: transparent;\n",
              "      border-left-color: var(--fill-color);\n",
              "      border-top-color: var(--fill-color);\n",
              "    }\n",
              "    30% {\n",
              "      border-color: transparent;\n",
              "      border-left-color: var(--fill-color);\n",
              "      border-top-color: var(--fill-color);\n",
              "      border-right-color: var(--fill-color);\n",
              "    }\n",
              "    40% {\n",
              "      border-color: transparent;\n",
              "      border-right-color: var(--fill-color);\n",
              "      border-top-color: var(--fill-color);\n",
              "    }\n",
              "    60% {\n",
              "      border-color: transparent;\n",
              "      border-right-color: var(--fill-color);\n",
              "    }\n",
              "    80% {\n",
              "      border-color: transparent;\n",
              "      border-right-color: var(--fill-color);\n",
              "      border-bottom-color: var(--fill-color);\n",
              "    }\n",
              "    90% {\n",
              "      border-color: transparent;\n",
              "      border-bottom-color: var(--fill-color);\n",
              "    }\n",
              "  }\n",
              "</style>\n",
              "\n",
              "      <script>\n",
              "        async function quickchart(key) {\n",
              "          const quickchartButtonEl =\n",
              "            document.querySelector('#' + key + ' button');\n",
              "          quickchartButtonEl.disabled = true;  // To prevent multiple clicks.\n",
              "          quickchartButtonEl.classList.add('colab-df-spinner');\n",
              "          try {\n",
              "            const charts = await google.colab.kernel.invokeFunction(\n",
              "                'suggestCharts', [key], {});\n",
              "          } catch (error) {\n",
              "            console.error('Error during call to suggestCharts:', error);\n",
              "          }\n",
              "          quickchartButtonEl.classList.remove('colab-df-spinner');\n",
              "          quickchartButtonEl.classList.add('colab-df-quickchart-complete');\n",
              "        }\n",
              "        (() => {\n",
              "          let quickchartButtonEl =\n",
              "            document.querySelector('#df-6c3a95fd-0d13-4005-bb69-0fc61387ed3f button');\n",
              "          quickchartButtonEl.style.display =\n",
              "            google.colab.kernel.accessAllowed ? 'block' : 'none';\n",
              "        })();\n",
              "      </script>\n",
              "    </div>\n",
              "\n",
              "    </div>\n",
              "  </div>\n"
            ],
            "application/vnd.google.colaboratory.intrinsic+json": {
              "type": "dataframe",
              "variable_name": "full_df"
            }
          },
          "metadata": {},
          "execution_count": 6
        }
      ]
    },
    {
      "cell_type": "code",
      "metadata": {
        "id": "wdr7yrCrcl-I",
        "colab": {
          "base_uri": "https://localhost:8080/"
        },
        "outputId": "69790cd8-2732-43f3-ef36-44ec7459c164"
      },
      "source": [
        "print(\"samples and columns\", full_df.shape)\n",
        "print(\"Possible labels \", np.unique(full_df['label']) )"
      ],
      "execution_count": 7,
      "outputs": [
        {
          "output_type": "stream",
          "name": "stdout",
          "text": [
            "samples and columns (5824, 32)\n",
            "Possible labels  [0 1 2]\n"
          ]
        }
      ]
    },
    {
      "cell_type": "code",
      "source": [
        "# The following line should be the same as the one in the \"training and testing\"\n",
        "# notebook\n",
        "features_to_keep = ['L1-dcache-load-misses', 'L1-dcache-loads', 'L1-dcache-stores',\n",
        "       'L1-icache-load-misses', 'LLC-load-misses', 'LLC-loads',\n",
        "       'LLC-store-misses', 'LLC-stores', 'branch-load-misses', 'branch-misses',\n",
        "       'branches', 'bus-cycles', 'cache-misses', 'cache-references',\n",
        "       'context-switches', 'cpu-clock', 'cycles', 'dTLB-load-misses',\n",
        "       'dTLB-store-misses', 'dTLB-stores', 'iTLB-load-misses', 'iTLB-loads',\n",
        "       'instructions', 'minor-faults', 'node-load-misses', 'node-loads',\n",
        "       'node-store-misses', 'node-stores', 'page-faults', 'ref-cycles',\n",
        "       'task-clock']\n",
        "\n",
        "print(\"Among all features, we only keep \",len(features_to_keep))\n",
        "\n"
      ],
      "metadata": {
        "colab": {
          "base_uri": "https://localhost:8080/"
        },
        "id": "8Y4tnoZCOzTe",
        "outputId": "093297ac-1933-41a5-b1ce-627edd624ac4"
      },
      "execution_count": 8,
      "outputs": [
        {
          "output_type": "stream",
          "name": "stdout",
          "text": [
            "Among all features, we only keep  31\n"
          ]
        }
      ]
    },
    {
      "cell_type": "code",
      "metadata": {
        "id": "-GsuWyTFKez7"
      },
      "source": [
        "columns_to_keep = features_to_keep.copy()\n",
        "columns_to_keep.append('label')\n",
        "df = full_df[columns_to_keep]\n",
        "data = df.to_numpy()\n",
        "\n",
        "train, test = train_test_split(data, test_size=0.2, shuffle=True, random_state=1 )"
      ],
      "execution_count": 9,
      "outputs": []
    },
    {
      "cell_type": "markdown",
      "metadata": {
        "id": "kC4hctiCcCZr"
      },
      "source": [
        "# Pre-processing"
      ]
    },
    {
      "cell_type": "code",
      "metadata": {
        "id": "Bvw0Rj_WNx_G"
      },
      "source": [
        "# We separate the last column in\n",
        "train_x, train_y = np.hsplit(train, [train.shape[1] - 1])\n",
        "train_y = train_y.reshape(-1).astype(int)\n",
        "\n",
        "test_x, test_y = np.hsplit(test, [test.shape[1] - 1])\n",
        "test_y = test_y.reshape(-1).astype(int)"
      ],
      "execution_count": 10,
      "outputs": []
    },
    {
      "cell_type": "markdown",
      "metadata": {
        "id": "mG3QQz4icEsJ"
      },
      "source": [
        "We apply Min-Max scaler. In this code we do it by hand, but we could have done it also by directly using `sklearn.preprocessing.MinMaxScaler`."
      ]
    },
    {
      "cell_type": "code",
      "metadata": {
        "id": "4b-YT34ENx_M"
      },
      "source": [
        "min = train_x.min(axis=0)\n",
        "max = train_x.max(axis=0)\n",
        "\n",
        "train_x = (train_x - min)/(max - min)\n",
        "test_x = (test_x - min)/(max - min)"
      ],
      "execution_count": 11,
      "outputs": []
    },
    {
      "cell_type": "markdown",
      "metadata": {
        "id": "C4DLhKZnKxxD"
      },
      "source": [
        "# Google Drive"
      ]
    },
    {
      "cell_type": "markdown",
      "metadata": {
        "id": "WkrrtK8jPlvd"
      },
      "source": [
        "Use the following code (modify it with the names of your folders) to attach your google drive, where you will store your models, to be used later in the testbed notebook."
      ]
    },
    {
      "cell_type": "code",
      "metadata": {
        "id": "f8SLPKQ6PIhI",
        "colab": {
          "base_uri": "https://localhost:8080/"
        },
        "outputId": "82c646cc-8780-4c9b-d7a8-19e2ce978388"
      },
      "source": [
        "mount_point = '/content/gdrive' # Always the same, don't change it\n",
        "drive.mount(mount_point, force_remount=True)\n",
        "drive_path = mount_point + '/My Drive/' # Always the same, don't change it\n",
        "\n",
        "# Replace the following folder with some folder inside your google drive\n",
        "my_path = drive_path + \\\n",
        "  'tsp/teaching/data-science-for-networks/img-from-code/09.highspeed-net/'\n"
      ],
      "execution_count": 41,
      "outputs": [
        {
          "output_type": "stream",
          "name": "stdout",
          "text": [
            "Mounted at /content/gdrive\n",
            "mkdir: cannot create directory ‘my_path’: File exists\n"
          ]
        }
      ]
    },
    {
      "cell_type": "markdown",
      "metadata": {
        "id": "_HYIodkjdL6w"
      },
      "source": [
        "# Logistic Regression"
      ]
    },
    {
      "cell_type": "code",
      "metadata": {
        "id": "6MIcuYmaQY23",
        "colab": {
          "base_uri": "https://localhost:8080/",
          "height": 951
        },
        "outputId": "f414d7e2-96f1-46fa-f0b6-1baa4cef360e"
      },
      "source": [
        "model = LogisticRegression(multi_class=\"multinomial\", solver=\"lbfgs\", max_iter=600)\n",
        "model.fit(train_x, train_y)\n",
        "y_pred = model.predict(test_x)\n",
        "class_names = np.array([\"low\", \"mid\", \"high\"] )\n",
        "plot_conf_mat(test_y, y_pred, class_names)\n",
        "print(\"The accuracy is \", accuracy_score(test_y, y_pred) )"
      ],
      "execution_count": 42,
      "outputs": [
        {
          "output_type": "stream",
          "name": "stderr",
          "text": [
            "/usr/local/lib/python3.11/dist-packages/sklearn/linear_model/_logistic.py:1247: FutureWarning: 'multi_class' was deprecated in version 1.5 and will be removed in 1.7. From then on, it will always use 'multinomial'. Leave it to its default value to avoid this warning.\n",
            "  warnings.warn(\n"
          ]
        },
        {
          "output_type": "stream",
          "name": "stdout",
          "text": [
            "Normalized confusion matrix\n",
            "[[0.99469496 0.00265252 0.00265252]\n",
            " [0.23446328 0.72033898 0.04519774]\n",
            " [0.0875576  0.18663594 0.72580645]]\n",
            "The accuracy is  0.8111587982832618\n"
          ]
        },
        {
          "output_type": "display_data",
          "data": {
            "text/plain": [
              "<Figure size 800x800 with 2 Axes>"
            ],
            "image/png": "[encoded data removed]"
          },
          "metadata": {}
        }
      ]
    },
    {
      "cell_type": "markdown",
      "metadata": {
        "id": "_4_c3nN-7oa9"
      },
      "source": [
        "Save the model"
      ]
    },
    {
      "cell_type": "code",
      "metadata": {
        "id": "MwmwCV4z8TTr",
        "outputId": "56b12a14-7813-4cae-c2a5-c3f79a6da716",
        "colab": {
          "base_uri": "https://localhost:8080/",
          "height": 162
        }
      },
      "source": [
        "with open(my_path+\"logistic-reg.pkl\", \"wb\") as dump_file:\n",
        "  pickle.dump(model, dump_file)"
      ],
      "execution_count": 43,
      "outputs": [
        {
          "output_type": "error",
          "ename": "FileNotFoundError",
          "evalue": "[Errno 2] No such file or directory: '/content/gdrive/My Drive/tsp/teaching/data-science-for-networks/img-from-code/09.highspeed-net/logistic-reg.pkl'",
          "traceback": [
            "\u001b[0;31m---------------------------------------------------------------------------\u001b[0m",
            "\u001b[0;31mFileNotFoundError\u001b[0m                         Traceback (most recent call last)",
            "\u001b[0;32m<ipython-input-43-3d2024597e9e>\u001b[0m in \u001b[0;36m<cell line: 0>\u001b[0;34m()\u001b[0m\n\u001b[0;32m----> 1\u001b[0;31m \u001b[0;32mwith\u001b[0m \u001b[0mopen\u001b[0m\u001b[0;34m(\u001b[0m\u001b[0mmy_path\u001b[0m\u001b[0;34m+\u001b[0m\u001b[0;34m\"logistic-reg.pkl\"\u001b[0m\u001b[0;34m,\u001b[0m \u001b[0;34m\"wb\"\u001b[0m\u001b[0;34m)\u001b[0m \u001b[0;32mas\u001b[0m \u001b[0mdump_file\u001b[0m\u001b[0;34m:\u001b[0m\u001b[0;34m\u001b[0m\u001b[0;34m\u001b[0m\u001b[0m\n\u001b[0m\u001b[1;32m      2\u001b[0m   \u001b[0mpickle\u001b[0m\u001b[0;34m.\u001b[0m\u001b[0mdump\u001b[0m\u001b[0;34m(\u001b[0m\u001b[0mmodel\u001b[0m\u001b[0;34m,\u001b[0m \u001b[0mdump_file\u001b[0m\u001b[0;34m)\u001b[0m\u001b[0;34m\u001b[0m\u001b[0;34m\u001b[0m\u001b[0m\n",
            "\u001b[0;31mFileNotFoundError\u001b[0m: [Errno 2] No such file or directory: '/content/gdrive/My Drive/tsp/teaching/data-science-for-networks/img-from-code/09.highspeed-net/logistic-reg.pkl'"
          ]
        }
      ]
    },
    {
      "cell_type": "markdown",
      "metadata": {
        "id": "drqzhCQTW8dy"
      },
      "source": [
        "# 1st Neural Network\n",
        "\n",
        "If you use Neural Networks, in Colab do \"Runtime > Change Runtime type\" to TPU or GPU.\n",
        "\n",
        "The functions `build_model()` and `train_model(..)` are very similar to what you encountered in the [notebooks on Neural Networks](https://github.com/andreaaraldo/machine-learning-for-networks/tree/master/04.neural_networks)."
      ]
    },
    {
      "cell_type": "code",
      "metadata": {
        "id": "dqxl31dhG7bD"
      },
      "source": [
        "def make_sequential_model(sample_size, layer_sizes,\n",
        "                          hidden_activation_function=\"relu\",\n",
        "                          out_activation_function=\"softmax\",\n",
        "                          loss_fun=\"sparse_categorical_crossentropy\",\n",
        "                          learning_rate=0.01,\n",
        "                          regularization_coeff=0,\n",
        "                          metrics=['accuracy']):\n",
        "  \"\"\"\n",
        "  Makes a sequential model.\n",
        "  Parameters\n",
        "  -------------------------\n",
        "  sample_size: integer\n",
        "    The number of features of the samples\n",
        "\n",
        "  layer_sizes: list\n",
        "    List of the size of the neural network layers. For instance, if\n",
        "    layer_sizes = [8, 6, 4], the 1st layer will have 5 neurons, the 2nd 6 etc.\n",
        "    Attention: the size of the last layer (the output layer) is not arbitrary.\n",
        "    In case of monodimensional regression, it must be 1.\n",
        "    When using categorical_crossentropy, it must be the same as the number of\n",
        "    categories.\n",
        "    When using binary_crossentropy, it must be 1.\n",
        "\n",
        "  inner_activation_function: string\n",
        "    Activation function used in all layers, except the last one.\n",
        "    Ex: \"relu\"\n",
        "\n",
        "  out_activation_function: string\n",
        "    Activation function of the last layer.\n",
        "    Ex. \"softmax\"\n",
        "\n",
        "  loss_fun: string\n",
        "    The loss function we want to minimize. Ex. categorical_crossentropy\n",
        "\n",
        "  learning_rate: float\n",
        "    Ex. 0.01\n",
        "\n",
        "  regularization_coeff: float\n",
        "    Coefficient of ridge regression\n",
        "    Ex. 0.01\n",
        "\n",
        "  metrics: list of strings\n",
        "    The metrics we want to show during training. Ex. ['accuracy']\n",
        "  \"\"\"\n",
        "\n",
        "  model = Sequential()\n",
        "\n",
        "\n",
        "  # In the next code we will use `partial`, which is a function of the ptyhon\n",
        "  # library functools, which allows to define a class, identical to another\n",
        "  # class but with some different default values.\n",
        "  # In our case we define MyDenseLayer equal to the standard keras class\n",
        "  # `Dense`, which implements a simple neural network layer, specifying\n",
        "  # two default values: one for the activation function, and another for the\n",
        "  # regularization\n",
        "\n",
        "  if (regularization_coeff==0):\n",
        "    # No regularization\n",
        "    MyDenseLayer = partial(Dense, activation=hidden_activation_function)\n",
        "  else:\n",
        "    MyDenseLayer = partial(Dense, activation=hidden_activation_function,\n",
        "                         kernel_regularizer=keras.regularizers.l2(regularization_coeff))\n",
        "\n",
        "  # Add the input layer\n",
        "  model.add( MyDenseLayer(layer_sizes[0],\n",
        "                  input_dim = sample_size) )\n",
        "\n",
        "  # Add hidden layers\n",
        "  for i in range(1,len(layer_sizes)-1 ): # We iterate from the 2nd element to the penultimate\n",
        "    model.add( MyDenseLayer(layer_sizes[i]) )\n",
        "\n",
        "  # Add output layer\n",
        "  model.add( Dense(layer_sizes[-1],\n",
        "                  activation = out_activation_function) )\n",
        "\n",
        "\n",
        "  model.compile(loss=loss_fun,\n",
        "              optimizer=keras.optimizers.Adam(lr=learning_rate) ,\n",
        "              metrics=metrics)\n",
        "\n",
        "  return model\n",
        "\n",
        "\n",
        "def enforce_reproducibility(seed):\n",
        "  tf.keras.backend.clear_session()\n",
        "\n",
        "  # To know more:\n",
        "  #       https://machinelearningmastery.com/reproducible-results-neural-networks-keras/\n",
        "  random.seed(seed)\n",
        "  np.random.seed(random.randint(0,300000))\n",
        "  tf.random.set_seed(random.randint(0,300000))\n",
        "\n",
        "\n",
        "def train_model(model, nn_file, X_tr, y_tr, seed, max_epochs=1000,\n",
        "                overwrite=True, validation_split=0.2, patience=20):\n",
        "  \"\"\"\n",
        "  model: neural network model\n",
        "            It must be a compiled neural network, e.g., a model issued by the\n",
        "            function make_sequential_model(..) defined before\n",
        "\n",
        "  nn_file:  string (name of a file)\n",
        "            This file will be used to store the weights of the trained neural\n",
        "            network. Such weights are automatically stored during training\n",
        "            (thanks to the ModelCheckpoint callback (see the implementation\n",
        "            code)), so that even if the code fails in the middle of training,\n",
        "            you can resume training without starting from scratch.\n",
        "            If the file already exists, before starting training, the weights\n",
        "            in such a file will be loaded, so that we do not start training from\n",
        "            scratch, but we start already from (hopefully) good weigths.\n",
        "\n",
        "  overwrite: boolean\n",
        "            If true, the model will be built and trained from scratch,\n",
        "            indipendent of whether nn_file exists or not.\n",
        "\n",
        "  seed: integer\n",
        "\n",
        "  X_tr: matrix\n",
        "            Feature matrix of the training set\n",
        "\n",
        "  y_tr: matrix\n",
        "            True labels of the training set\n",
        "\n",
        "  max_epochs: integer\n",
        "            Training will stop after such number of epochs\n",
        "\n",
        "  validation_split: float (between 0 and 1)\n",
        "            Fraction of training dataset that will be used as validation\n",
        "\n",
        "  patience: integer\n",
        "            Training will stop if the validation loss does not improve after the\n",
        "            specified number of epochs\n",
        "  \"\"\"\n",
        "\n",
        "  enforce_reproducibility(seed)\n",
        "\n",
        "\n",
        "  # Before starting training, Keras divides (X_tr, y_tr) into a training subset\n",
        "  # and a validation subset. During iterations, Keras will do backpropagation\n",
        "  # in order to minimize the loss on the trainins subset, but it will monitor\n",
        "  # and also plot the loss on the validation subset.\n",
        "  # However, Keras always takes the first part of (X_tr, y_tr) as training\n",
        "  # subset and the second part as validation subset. This can be bad, in case\n",
        "  # the dataset has been created with a certain order (for instance all the\n",
        "  # samples with a certain characteristic first, and then all the others), as\n",
        "  # we instead need to train the neural network on a representative subset of\n",
        "  # samples. For this reason, we first shuffle the dataset\n",
        "  X_train, y_train = shuffle(X_tr, y_tr, random_state=seed)\n",
        "\n",
        "\n",
        "  ##################\n",
        "  #### CALLBACKS ###\n",
        "  ##################\n",
        "  # These functions are called at every epoch\n",
        "  plot_cb = PlotLossesKerasTF()  # Plots the loss\n",
        "  checkpoint_cb = ModelCheckpoint(nn_file) # Stores weights\n",
        "  logger_cb = CSVLogger(nn_file+'.csv', append=True) # Stores history\n",
        "                # see https://theailearner.com/2019/07/23/keras-callbacks-csvlogger/\n",
        "\n",
        "\n",
        "  # To stop early if we already converged\n",
        "  # See pagg 315-16 of [Ge19]\n",
        "  early_stop_cb = tf.keras.callbacks.EarlyStopping(verbose=1,\n",
        "      monitor='val_loss',\n",
        "     patience=patience, restore_best_weights=True)\n",
        "\n",
        "\n",
        "  if overwrite==True:\n",
        "    try:\n",
        "      os.remove(nn_file)\n",
        "    except OSError:\n",
        "      pass\n",
        "\n",
        "    try:\n",
        "      os.remove(nn_file+'.csv')\n",
        "    except OSError:\n",
        "      pass\n",
        "\n",
        "  if isfile(nn_file):\n",
        "    print(\"Loading pre-existing model\")\n",
        "    model = load_model(nn_file)\n",
        "\n",
        "  history = model.fit(X_train, y_train, epochs=max_epochs,\n",
        "                      callbacks = [plot_cb, checkpoint_cb, logger_cb, early_stop_cb],\n",
        "                      validation_split=validation_split )\n",
        "\n",
        "  return history"
      ],
      "execution_count": 22,
      "outputs": []
    },
    {
      "cell_type": "code",
      "metadata": {
        "id": "YiPHBaSKHnDt"
      },
      "source": [
        "sample_size = train_x.shape[1]\n",
        "num_of_classes=len(class_names)"
      ],
      "execution_count": 23,
      "outputs": []
    },
    {
      "cell_type": "code",
      "metadata": {
        "colab": {
          "base_uri": "https://localhost:8080/",
          "height": 420
        },
        "id": "Mc7OX9j8HLsj",
        "outputId": "facea33f-f373-4b67-c9b6-9b2a70ed2bd7"
      },
      "source": [
        "nnfile = nn_file = my_path + 'nn1.h5'\n",
        "\n",
        "shallow_architecture=[20, 10, 5, num_of_classes]\n",
        "model = make_sequential_model(sample_size, shallow_architecture)\n",
        "history = train_model(model, nn_file, train_x, train_y, seed=3)"
      ],
      "execution_count": 24,
      "outputs": [
        {
          "output_type": "stream",
          "name": "stderr",
          "text": [
            "/usr/local/lib/python3.11/dist-packages/keras/src/layers/core/dense.py:87: UserWarning: Do not pass an `input_shape`/`input_dim` argument to a layer. When using Sequential models, prefer using an `Input(shape)` object as the first layer in the model instead.\n",
            "  super().__init__(activity_regularizer=activity_regularizer, **kwargs)\n"
          ]
        },
        {
          "output_type": "error",
          "ename": "ValueError",
          "evalue": "Argument(s) not recognized: {'lr': 0.01}",
          "traceback": [
            "\u001b[0;31m---------------------------------------------------------------------------\u001b[0m",
            "\u001b[0;31mValueError\u001b[0m                                Traceback (most recent call last)",
            "\u001b[0;32m<ipython-input-24-2bf0b595b00c>\u001b[0m in \u001b[0;36m<cell line: 0>\u001b[0;34m()\u001b[0m\n\u001b[1;32m      2\u001b[0m \u001b[0;34m\u001b[0m\u001b[0m\n\u001b[1;32m      3\u001b[0m \u001b[0mshallow_architecture\u001b[0m\u001b[0;34m=\u001b[0m\u001b[0;34m[\u001b[0m\u001b[0;36m20\u001b[0m\u001b[0;34m,\u001b[0m \u001b[0;36m10\u001b[0m\u001b[0;34m,\u001b[0m \u001b[0;36m5\u001b[0m\u001b[0;34m,\u001b[0m \u001b[0mnum_of_classes\u001b[0m\u001b[0;34m]\u001b[0m\u001b[0;34m\u001b[0m\u001b[0;34m\u001b[0m\u001b[0m\n\u001b[0;32m----> 4\u001b[0;31m \u001b[0mmodel\u001b[0m \u001b[0;34m=\u001b[0m \u001b[0mmake_sequential_model\u001b[0m\u001b[0;34m(\u001b[0m\u001b[0msample_size\u001b[0m\u001b[0;34m,\u001b[0m \u001b[0mshallow_architecture\u001b[0m\u001b[0;34m)\u001b[0m\u001b[0;34m\u001b[0m\u001b[0;34m\u001b[0m\u001b[0m\n\u001b[0m\u001b[1;32m      5\u001b[0m \u001b[0mhistory\u001b[0m \u001b[0;34m=\u001b[0m \u001b[0mtrain_model\u001b[0m\u001b[0;34m(\u001b[0m\u001b[0mmodel\u001b[0m\u001b[0;34m,\u001b[0m \u001b[0mnn_file\u001b[0m\u001b[0;34m,\u001b[0m \u001b[0mtrain_x\u001b[0m\u001b[0;34m,\u001b[0m \u001b[0mtrain_y\u001b[0m\u001b[0;34m,\u001b[0m \u001b[0mseed\u001b[0m\u001b[0;34m=\u001b[0m\u001b[0;36m3\u001b[0m\u001b[0;34m)\u001b[0m\u001b[0;34m\u001b[0m\u001b[0;34m\u001b[0m\u001b[0m\n",
            "\u001b[0;32m<ipython-input-22-788f2f541563>\u001b[0m in \u001b[0;36mmake_sequential_model\u001b[0;34m(sample_size, layer_sizes, hidden_activation_function, out_activation_function, loss_fun, learning_rate, regularization_coeff, metrics)\u001b[0m\n\u001b[1;32m     76\u001b[0m \u001b[0;34m\u001b[0m\u001b[0m\n\u001b[1;32m     77\u001b[0m   model.compile(loss=loss_fun,\n\u001b[0;32m---> 78\u001b[0;31m               \u001b[0moptimizer\u001b[0m\u001b[0;34m=\u001b[0m\u001b[0mkeras\u001b[0m\u001b[0;34m.\u001b[0m\u001b[0moptimizers\u001b[0m\u001b[0;34m.\u001b[0m\u001b[0mAdam\u001b[0m\u001b[0;34m(\u001b[0m\u001b[0mlr\u001b[0m\u001b[0;34m=\u001b[0m\u001b[0mlearning_rate\u001b[0m\u001b[0;34m)\u001b[0m \u001b[0;34m,\u001b[0m\u001b[0;34m\u001b[0m\u001b[0;34m\u001b[0m\u001b[0m\n\u001b[0m\u001b[1;32m     79\u001b[0m               metrics=metrics)\n\u001b[1;32m     80\u001b[0m \u001b[0;34m\u001b[0m\u001b[0m\n",
            "\u001b[0;32m/usr/local/lib/python3.11/dist-packages/keras/src/optimizers/adam.py\u001b[0m in \u001b[0;36m__init__\u001b[0;34m(self, learning_rate, beta_1, beta_2, epsilon, amsgrad, weight_decay, clipnorm, clipvalue, global_clipnorm, use_ema, ema_momentum, ema_overwrite_frequency, loss_scale_factor, gradient_accumulation_steps, name, **kwargs)\u001b[0m\n\u001b[1;32m     60\u001b[0m         \u001b[0;34m**\u001b[0m\u001b[0mkwargs\u001b[0m\u001b[0;34m,\u001b[0m\u001b[0;34m\u001b[0m\u001b[0;34m\u001b[0m\u001b[0m\n\u001b[1;32m     61\u001b[0m     ):\n\u001b[0;32m---> 62\u001b[0;31m         super().__init__(\n\u001b[0m\u001b[1;32m     63\u001b[0m             \u001b[0mlearning_rate\u001b[0m\u001b[0;34m=\u001b[0m\u001b[0mlearning_rate\u001b[0m\u001b[0;34m,\u001b[0m\u001b[0;34m\u001b[0m\u001b[0;34m\u001b[0m\u001b[0m\n\u001b[1;32m     64\u001b[0m             \u001b[0mname\u001b[0m\u001b[0;34m=\u001b[0m\u001b[0mname\u001b[0m\u001b[0;34m,\u001b[0m\u001b[0;34m\u001b[0m\u001b[0;34m\u001b[0m\u001b[0m\n",
            "\u001b[0;32m/usr/local/lib/python3.11/dist-packages/keras/src/backend/tensorflow/optimizer.py\u001b[0m in \u001b[0;36m__init__\u001b[0;34m(self, *args, **kwargs)\u001b[0m\n\u001b[1;32m     19\u001b[0m \u001b[0;32mclass\u001b[0m \u001b[0mTFOptimizer\u001b[0m\u001b[0;34m(\u001b[0m\u001b[0mKerasAutoTrackable\u001b[0m\u001b[0;34m,\u001b[0m \u001b[0mbase_optimizer\u001b[0m\u001b[0;34m.\u001b[0m\u001b[0mBaseOptimizer\u001b[0m\u001b[0;34m)\u001b[0m\u001b[0;34m:\u001b[0m\u001b[0;34m\u001b[0m\u001b[0;34m\u001b[0m\u001b[0m\n\u001b[1;32m     20\u001b[0m     \u001b[0;32mdef\u001b[0m \u001b[0m__init__\u001b[0m\u001b[0;34m(\u001b[0m\u001b[0mself\u001b[0m\u001b[0;34m,\u001b[0m \u001b[0;34m*\u001b[0m\u001b[0margs\u001b[0m\u001b[0;34m,\u001b[0m \u001b[0;34m**\u001b[0m\u001b[0mkwargs\u001b[0m\u001b[0;34m)\u001b[0m\u001b[0;34m:\u001b[0m\u001b[0;34m\u001b[0m\u001b[0;34m\u001b[0m\u001b[0m\n\u001b[0;32m---> 21\u001b[0;31m         \u001b[0msuper\u001b[0m\u001b[0;34m(\u001b[0m\u001b[0;34m)\u001b[0m\u001b[0;34m.\u001b[0m\u001b[0m__init__\u001b[0m\u001b[0;34m(\u001b[0m\u001b[0;34m*\u001b[0m\u001b[0margs\u001b[0m\u001b[0;34m,\u001b[0m \u001b[0;34m**\u001b[0m\u001b[0mkwargs\u001b[0m\u001b[0;34m)\u001b[0m\u001b[0;34m\u001b[0m\u001b[0;34m\u001b[0m\u001b[0m\n\u001b[0m\u001b[1;32m     22\u001b[0m         \u001b[0mself\u001b[0m\u001b[0;34m.\u001b[0m\u001b[0m_distribution_strategy\u001b[0m \u001b[0;34m=\u001b[0m \u001b[0mtf\u001b[0m\u001b[0;34m.\u001b[0m\u001b[0mdistribute\u001b[0m\u001b[0;34m.\u001b[0m\u001b[0mget_strategy\u001b[0m\u001b[0;34m(\u001b[0m\u001b[0;34m)\u001b[0m\u001b[0;34m\u001b[0m\u001b[0;34m\u001b[0m\u001b[0m\n\u001b[1;32m     23\u001b[0m \u001b[0;34m\u001b[0m\u001b[0m\n",
            "\u001b[0;32m/usr/local/lib/python3.11/dist-packages/keras/src/optimizers/base_optimizer.py\u001b[0m in \u001b[0;36m__init__\u001b[0;34m(self, learning_rate, weight_decay, clipnorm, clipvalue, global_clipnorm, use_ema, ema_momentum, ema_overwrite_frequency, loss_scale_factor, gradient_accumulation_steps, name, **kwargs)\u001b[0m\n\u001b[1;32m     88\u001b[0m             )\n\u001b[1;32m     89\u001b[0m         \u001b[0;32mif\u001b[0m \u001b[0mkwargs\u001b[0m\u001b[0;34m:\u001b[0m\u001b[0;34m\u001b[0m\u001b[0;34m\u001b[0m\u001b[0m\n\u001b[0;32m---> 90\u001b[0;31m             \u001b[0;32mraise\u001b[0m \u001b[0mValueError\u001b[0m\u001b[0;34m(\u001b[0m\u001b[0;34mf\"Argument(s) not recognized: {kwargs}\"\u001b[0m\u001b[0;34m)\u001b[0m\u001b[0;34m\u001b[0m\u001b[0;34m\u001b[0m\u001b[0m\n\u001b[0m\u001b[1;32m     91\u001b[0m \u001b[0;34m\u001b[0m\u001b[0m\n\u001b[1;32m     92\u001b[0m         \u001b[0;32mif\u001b[0m \u001b[0mname\u001b[0m \u001b[0;32mis\u001b[0m \u001b[0;32mNone\u001b[0m\u001b[0;34m:\u001b[0m\u001b[0;34m\u001b[0m\u001b[0;34m\u001b[0m\u001b[0m\n",
            "\u001b[0;31mValueError\u001b[0m: Argument(s) not recognized: {'lr': 0.01}"
          ]
        }
      ]
    },
    {
      "cell_type": "code",
      "metadata": {
        "id": "7qvMwurWdTcU"
      },
      "source": [
        "print(\"The trained NN model has been saved to \", nnfile)"
      ],
      "execution_count": null,
      "outputs": []
    },
    {
      "cell_type": "code",
      "metadata": {
        "id": "OQPXGOiHfK7K"
      },
      "source": [
        "y_pred_ = model.predict(test_x)\n",
        "y_pred = np.argmax(y_pred_, axis=1)\n",
        "plot_conf_mat(test_y, y_pred, class_names)\n",
        "print(\"The accuracy is \", accuracy_score(test_y, y_pred) )"
      ],
      "execution_count": null,
      "outputs": []
    },
    {
      "cell_type": "markdown",
      "metadata": {
        "id": "nQCeJ4XRftJV"
      },
      "source": [
        "This NN performs better than the Logistic Regression. However, will it be fast enough to classify at line speed?\n",
        "\n",
        "You will have to check on the testbed notebook!"
      ]
    },
    {
      "cell_type": "markdown",
      "metadata": {
        "id": "F7xQEweVcXOB"
      },
      "source": [
        "# Your model\n",
        "\n",
        "Train your models here and dump (i.e., save) them."
      ]
    },
    {
      "cell_type": "code",
      "metadata": {
        "id": "UQ-vga2xWok7"
      },
      "source": [],
      "execution_count": null,
      "outputs": []
    }
  ]
}